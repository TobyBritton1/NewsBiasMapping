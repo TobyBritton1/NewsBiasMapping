{
 "cells": [
  {
   "cell_type": "code",
   "execution_count": 1,
   "metadata": {},
   "outputs": [],
   "source": [
    "from sklearn.cluster import DBSCAN\n",
    "import numpy as np"
   ]
  },
  {
   "attachments": {},
   "cell_type": "markdown",
   "metadata": {},
   "source": [
    "-1 means that it isn't clustered as a group"
   ]
  },
  {
   "cell_type": "code",
   "execution_count": 2,
   "metadata": {},
   "outputs": [
    {
     "data": {
      "text/plain": [
       "array([ 0,  0,  0,  1,  1, -1, -1], dtype=int64)"
      ]
     },
     "execution_count": 2,
     "metadata": {},
     "output_type": "execute_result"
    }
   ],
   "source": [
    "X = np.array([[1, 2], [2, 2], [2, 3], [8, 7], [8, 8], [25, 80], [100,100]])\n",
    "clustering = DBSCAN(eps=3, min_samples=2).fit(X)\n",
    "clustering.labels_"
   ]
  },
  {
   "cell_type": "code",
   "execution_count": 3,
   "metadata": {},
   "outputs": [
    {
     "name": "stdout",
     "output_type": "stream",
     "text": [
      "[0 0 1 1 2 2]\n"
     ]
    }
   ],
   "source": [
    "from Clustering import ClusterMetrics\n",
    "\n",
    "# max_dist works for 0.4-1.1\n",
    "metrics = np.array(\n",
    "    [\n",
    "        [0.9,-0.4], # positive, opinion\n",
    "        [0.6,-0.3], # positive, opinion\n",
    "        [0.1,0.7], # neutral, factual\n",
    "        [-0.2,0.8], # neutral, factual\n",
    "        [-0.9,-0.8], # negative, opinion\n",
    "        [-0.6,-0.6], # negative, opinion\n",
    "    ]\n",
    ")\n",
    "labels = ClusterMetrics(metrics)\n",
    "print(labels)"
   ]
  }
 ],
 "metadata": {
  "kernelspec": {
   "display_name": "Python 3",
   "language": "python",
   "name": "python3"
  },
  "language_info": {
   "codemirror_mode": {
    "name": "ipython",
    "version": 3
   },
   "file_extension": ".py",
   "mimetype": "text/x-python",
   "name": "python",
   "nbconvert_exporter": "python",
   "pygments_lexer": "ipython3",
   "version": "3.10.4"
  },
  "orig_nbformat": 4,
  "vscode": {
   "interpreter": {
    "hash": "4b825bedc96eadae69a7af626f226c64579ea86ebf2cbb396f28a065f1c74e47"
   }
  }
 },
 "nbformat": 4,
 "nbformat_minor": 2
}
