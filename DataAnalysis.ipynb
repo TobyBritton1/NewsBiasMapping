{
 "cells": [
  {
   "attachments": {},
   "cell_type": "markdown",
   "metadata": {},
   "source": [
    "<center><h1>Data Analysis<h1><center>"
   ]
  },
  {
   "attachments": {},
   "cell_type": "markdown",
   "metadata": {},
   "source": [
    "---"
   ]
  },
  {
   "cell_type": "code",
   "execution_count": 4,
   "metadata": {},
   "outputs": [
    {
     "name": "stderr",
     "output_type": "stream",
     "text": [
      "[nltk_data] Downloading package vader_lexicon to\n",
      "[nltk_data]     C:\\Users\\britt\\AppData\\Roaming\\nltk_data...\n",
      "[nltk_data]   Package vader_lexicon is already up-to-date!\n"
     ]
    },
    {
     "data": {
      "text/plain": [
       "True"
      ]
     },
     "execution_count": 4,
     "metadata": {},
     "output_type": "execute_result"
    }
   ],
   "source": [
    "from Metrics import getSentiment, getQuoteBased, getSensationalized, getMudslinging, getSpin, getInformal\n",
    "import json\n",
    "import pandas as pd\n",
    "import nltk\n",
    "from collections import Counter\n",
    "import matplotlib.pyplot as plt\n",
    "nltk.download('vader_lexicon')"
   ]
  },
  {
   "cell_type": "code",
   "execution_count": 5,
   "metadata": {},
   "outputs": [
    {
     "name": "stdout",
     "output_type": "stream",
     "text": [
      "Loading File\n",
      "File Loaded\n"
     ]
    }
   ],
   "source": [
    "print(\"Loading File\")\n",
    "file = open(\"rust-articles-backup.json\", encoding=\"utf8\")\n",
    "articles = pd.DataFrame.from_dict(json.load(file))\n",
    "print(\"File Loaded\")"
   ]
  },
  {
   "cell_type": "code",
   "execution_count": 6,
   "metadata": {},
   "outputs": [
    {
     "name": "stdout",
     "output_type": "stream",
     "text": [
      "Index(['url', 'publisher', 'headline', 'twitterHeadline', 'description',\n",
      "       'categories', 'body', 'images', 'thumbnail', 'videos', 'datePublished',\n",
      "       'dateUpdated', 'dateParsed'],\n",
      "      dtype='object')\n",
      "161225\n"
     ]
    }
   ],
   "source": [
    "# print(articles['publisher'].value_counts())\n",
    "# print(articles['categories'].value_counts())\n",
    "print(articles.columns)\n",
    "print(len(articles))\n",
    "# print(articles['body'][articles['categories'].str.contains('leonardo dicaprio')].reset_index(drop=True)[1])\n",
    "# print(articles['body'][articles['categories'].str.contains('opinion')].reset_index(drop=True)[1])"
   ]
  },
  {
   "attachments": {},
   "cell_type": "markdown",
   "metadata": {},
   "source": [
    "Get All Metrics"
   ]
  },
  {
   "cell_type": "code",
   "execution_count": 7,
   "metadata": {},
   "outputs": [
    {
     "name": "stdout",
     "output_type": "stream",
     "text": [
      "Loading File\n",
      "File Loaded\n",
      "url                http://news.sky.com/story/102-migrants-interce...\n",
      "publisher                                                        sky\n",
      "headline           102 migrants intercepted in Channel - highest ...\n",
      "twitterHeadline    102 migrants intercepted in Channel - highest ...\n",
      "description        Border Force stops five boats containing peopl...\n",
      "categories                                                   uk news\n",
      "body               More than 100 migrants, including seven childr...\n",
      "images             [{'alt': 'Small boats used to carry the migran...\n",
      "thumbnail                                                       None\n",
      "videos                                                            []\n",
      "datePublished                               2020-02-07T16:51:00.000Z\n",
      "dateUpdated                                 2020-02-07T18:38:00.000Z\n",
      "dateParsed                                  2020-02-07T20:22:59.000Z\n",
      "sentiment                                                     0.3091\n",
      "quoteBased                                                   0.51423\n",
      "sensationalized                                                  0.0\n",
      "mudslinging                                                  0.09183\n",
      "spin                                                             0.0\n",
      "informal                                                     0.26899\n",
      "Name: 0, dtype: object\n"
     ]
    }
   ],
   "source": [
    "\"\"\"for i in range(len(articles)):\n",
    "    if i % 10000 == 0:\n",
    "        print(i,len(articles))\n",
    "    articles.at[i,'sentiment'] = getSentiment(articles.at[i,'body'])\n",
    "    articles.at[i,'quoteBased'] = getQuoteBased(articles.at[i,'body'])\n",
    "    articles.at[i,'sensationalized'] = getSensationalized(articles.at[i,'body'])\n",
    "    articles.at[i,'mudslinging'] = getMudslinging(articles.at[i,'body'])\n",
    "    articles.at[i,'spin'] = getSpin(articles.at[i,'body'])\n",
    "    articles.at[i,'informal'] = getInformal(articles.at[i,'body'])\n",
    "articles.to_json('rust-articles-backup-metrics.json')\"\"\"\n",
    "\n",
    "print(\"Loading File\")\n",
    "file = open(\"rust-articles-backup-metrics.json\", encoding=\"utf8\")\n",
    "metricArticles = pd.DataFrame.from_dict(json.load(file))\n",
    "print(\"File Loaded\")\n",
    "\n",
    "print(metricArticles.iloc[0])"
   ]
  },
  {
   "attachments": {},
   "cell_type": "markdown",
   "metadata": {},
   "source": [
    "Get Sentiment Test"
   ]
  },
  {
   "cell_type": "code",
   "execution_count": 8,
   "metadata": {},
   "outputs": [],
   "source": [
    "sentiment = []\n",
    "for i in range(10):\n",
    "    score = getSentiment(articles.at[i,'body'])\n",
    "    articles.at[i,'sentiment'] = score\n",
    "    sentiment.append(score)"
   ]
  },
  {
   "attachments": {},
   "cell_type": "markdown",
   "metadata": {},
   "source": [
    "Get Quotebased Test"
   ]
  },
  {
   "cell_type": "code",
   "execution_count": 9,
   "metadata": {},
   "outputs": [
    {
     "name": "stdout",
     "output_type": "stream",
     "text": [
      "Opinion: 1840 0.13374\n",
      "Fact: 159385 0.17788\n",
      "All: 161225 0.17737\n"
     ]
    }
   ],
   "source": [
    "count = 0\n",
    "total = 0\n",
    "opp = []\n",
    "o = articles[articles['categories'].str.contains('opinion')].reset_index(drop=True)\n",
    "for i in range(len(o)):\n",
    "    quoteBased = getQuoteBased(o.at[i,'body'])\n",
    "    # print(ob.at[i,'body'])\n",
    "    # print(quoteBased)\n",
    "    count += 1\n",
    "    total += quoteBased\n",
    "    opp.append(quoteBased)\n",
    "print('Opinion:',count, round(total/count,5))\n",
    "\n",
    "count = 0\n",
    "total = 0\n",
    "fac = []\n",
    "f = articles[~articles['categories'].str.contains('opinion')].reset_index(drop=True)\n",
    "for i in range(len(f)):\n",
    "    quoteBased = getQuoteBased(f.at[i,'body'])\n",
    "    # print(fb.at[i,'body'])\n",
    "    # print(quoteBased)\n",
    "    count += 1\n",
    "    total += quoteBased\n",
    "    fac.append(quoteBased)\n",
    "print('Fact:',count, round(total/count,5))\n",
    "\n",
    "count = 0\n",
    "total = 0\n",
    "quoteBased = []\n",
    "for i in range(len(articles)):\n",
    "    score = getQuoteBased(articles.at[i,'body'])\n",
    "    # print(fb.at[i,'body'])\n",
    "    # print(quoteBased)\n",
    "    count += 1\n",
    "    total += score\n",
    "    quoteBased.append(score)\n",
    "print('All:',count, round(total/count,5))"
   ]
  },
  {
   "attachments": {},
   "cell_type": "markdown",
   "metadata": {},
   "source": [
    "Get Sensationalized Test"
   ]
  },
  {
   "cell_type": "code",
   "execution_count": 10,
   "metadata": {},
   "outputs": [],
   "source": [
    "sensationalized = []\n",
    "for i in range(len(articles)):\n",
    "    score = getSensationalized(articles.at[i,'body'])\n",
    "    sensationalized.append(score)"
   ]
  },
  {
   "attachments": {},
   "cell_type": "markdown",
   "metadata": {},
   "source": [
    "Get Mudslinging Test"
   ]
  },
  {
   "cell_type": "code",
   "execution_count": 11,
   "metadata": {},
   "outputs": [],
   "source": [
    "mudslinging = []\n",
    "for i in range(len(articles)):\n",
    "    score = getMudslinging(articles.at[i,'body'])\n",
    "    mudslinging.append(score)"
   ]
  },
  {
   "attachments": {},
   "cell_type": "markdown",
   "metadata": {},
   "source": [
    "Get Spin Test"
   ]
  },
  {
   "cell_type": "code",
   "execution_count": 12,
   "metadata": {},
   "outputs": [],
   "source": [
    "spin = []\n",
    "for i in range(len(articles)):\n",
    "    score = getSpin(articles.at[i,'body'])\n",
    "    spin.append(score)"
   ]
  },
  {
   "attachments": {},
   "cell_type": "markdown",
   "metadata": {},
   "source": [
    "Get Informal Test"
   ]
  },
  {
   "cell_type": "code",
   "execution_count": 13,
   "metadata": {},
   "outputs": [],
   "source": [
    "informal = []\n",
    "#for i in range(len(articles)):\n",
    "for i in range(2000):\n",
    "    score = getInformal(articles.at[i,'body'])\n",
    "    informal.append(score)"
   ]
  },
  {
   "cell_type": "code",
   "execution_count": 14,
   "metadata": {},
   "outputs": [
    {
     "name": "stdout",
     "output_type": "stream",
     "text": [
      "{0.3: 1, 0.5: 1, 1.0: 5, 0.0: 1, 0.1: 1, 0.6: 1}\n"
     ]
    },
    {
     "data": {
      "image/png": "[encoded data removed]",
      "text/plain": [
       "<Figure size 640x480 with 1 Axes>"
      ]
     },
     "metadata": {},
     "output_type": "display_data"
    }
   ],
   "source": [
    "grouped = {}\n",
    "for score in sentiment:\n",
    "    try:\n",
    "        grouped[round(score,1)] += 1\n",
    "    except:\n",
    "        grouped[round(score,1)] = 1\n",
    "\n",
    "print(grouped)\n",
    "plt.scatter(*zip(*grouped.items()))\n",
    "plt.show()"
   ]
  },
  {
   "cell_type": "code",
   "execution_count": 15,
   "metadata": {},
   "outputs": [
    {
     "name": "stdout",
     "output_type": "stream",
     "text": [
      "{0.5: 10644, 0.2: 16062, 1: 219, 0.4: 15993, 0.3: 18021, 0.1: 14181, 0.0: 76160, 0.7: 2658, 0.6: 5787, 0.8: 1079, 0.9: 421}\n"
     ]
    },
    {
     "data": {
      "image/png": "[encoded data removed]",
      "text/plain": [
       "<Figure size 640x480 with 1 Axes>"
      ]
     },
     "metadata": {},
     "output_type": "display_data"
    }
   ],
   "source": [
    "grouped = {}\n",
    "for score in quoteBased:\n",
    "    try:\n",
    "        grouped[round(score,1)] += 1\n",
    "    except:\n",
    "        grouped[round(score,1)] = 1\n",
    "\n",
    "print(grouped)\n",
    "plt.scatter(*zip(*grouped.items()))\n",
    "plt.show()"
   ]
  },
  {
   "cell_type": "code",
   "execution_count": 16,
   "metadata": {},
   "outputs": [
    {
     "name": "stdout",
     "output_type": "stream",
     "text": [
      "{0.0: 123892, 0.1: 32381, 0.2: 3887, 0.3: 787, 0.8: 5, 1: 1, 0.7: 8, 0.6: 20, 0.5: 60, 0.4: 183, 0.9: 1}\n"
     ]
    },
    {
     "data": {
      "image/png": "[encoded data removed]",
      "text/plain": [
       "<Figure size 640x480 with 1 Axes>"
      ]
     },
     "metadata": {},
     "output_type": "display_data"
    }
   ],
   "source": [
    "grouped = {}\n",
    "for score in sensationalized:\n",
    "    try:\n",
    "        grouped[round(score,1)] += 1\n",
    "    except:\n",
    "        grouped[round(score,1)] = 1\n",
    "\n",
    "print(grouped)\n",
    "plt.scatter(*zip(*grouped.items()))\n",
    "plt.show()"
   ]
  },
  {
   "cell_type": "code",
   "execution_count": 22,
   "metadata": {},
   "outputs": [
    {
     "name": "stdout",
     "output_type": "stream",
     "text": [
      "{0.1: 55608, 0.2: 8264, 0.0: 95313, 0.3: 1494, 0.5: 102, 0.7: 25, 0.4: 363, 0.9: 5, 0.6: 40, 0.8: 11}\n"
     ]
    },
    {
     "data": {
      "image/png": "[encoded data removed]",
      "text/plain": [
       "<Figure size 640x480 with 1 Axes>"
      ]
     },
     "metadata": {},
     "output_type": "display_data"
    }
   ],
   "source": [
    "grouped = {}\n",
    "for score in mudslinging:\n",
    "    try:\n",
    "        grouped[round(score,1)] += 1\n",
    "    except:\n",
    "        grouped[round(score,1)] = 1\n",
    "\n",
    "print(grouped)\n",
    "plt.scatter(*zip(*grouped.items()))\n",
    "plt.xlabel('Rounded Mudslinging Score')\n",
    "plt.ylabel('Number of Articles')\n",
    "plt.show()"
   ]
  },
  {
   "cell_type": "code",
   "execution_count": 23,
   "metadata": {},
   "outputs": [
    {
     "name": "stdout",
     "output_type": "stream",
     "text": [
      "{0.0: 43302, 0.2: 31166, 0.1: 78418, 0.8: 3, 0.3: 6742, 0.7: 11, 0.4: 1269, 0.6: 63, 0.5: 243, 0.9: 5, 1.0: 3}\n"
     ]
    },
    {
     "data": {
      "image/png": "[encoded data removed]",
      "text/plain": [
       "<Figure size 640x480 with 1 Axes>"
      ]
     },
     "metadata": {},
     "output_type": "display_data"
    }
   ],
   "source": [
    "grouped = {}\n",
    "for score in spin:\n",
    "    try:\n",
    "        grouped[round(score,1)] += 1\n",
    "    except:\n",
    "        grouped[round(score,1)] = 1\n",
    "\n",
    "print(grouped)\n",
    "plt.scatter(*zip(*grouped.items()))\n",
    "plt.xlabel('Rounded Spin Score')\n",
    "plt.ylabel('Number of Articles')\n",
    "plt.show()"
   ]
  },
  {
   "cell_type": "code",
   "execution_count": 19,
   "metadata": {},
   "outputs": [
    {
     "name": "stdout",
     "output_type": "stream",
     "text": [
      "{0.1: 1045, 0.2: 653, 0.5: 18, 0.3: 218, 0.4: 61, 0.6: 1, 0.0: 3, 0.7: 1}\n"
     ]
    },
    {
     "data": {
      "image/png": "[encoded data removed]",
      "text/plain": [
       "<Figure size 640x480 with 1 Axes>"
      ]
     },
     "metadata": {},
     "output_type": "display_data"
    }
   ],
   "source": [
    "grouped = {}\n",
    "for score in informal:\n",
    "    try:\n",
    "        grouped[round(score,1)] += 1\n",
    "    except:\n",
    "        grouped[round(score,1)] = 1\n",
    "\n",
    "print(grouped)\n",
    "plt.scatter(*zip(*grouped.items()))\n",
    "plt.show()"
   ]
  },
  {
   "attachments": {},
   "cell_type": "markdown",
   "metadata": {},
   "source": [
    "Regression Testing"
   ]
  },
  {
   "cell_type": "code",
   "execution_count": 20,
   "metadata": {},
   "outputs": [
    {
     "data": {
      "text/html": [
       "<div>\n",
       "<style scoped>\n",
       "    .dataframe tbody tr th:only-of-type {\n",
       "        vertical-align: middle;\n",
       "    }\n",
       "\n",
       "    .dataframe tbody tr th {\n",
       "        vertical-align: top;\n",
       "    }\n",
       "\n",
       "    .dataframe thead th {\n",
       "        text-align: right;\n",
       "    }\n",
       "</style>\n",
       "<table border=\"1\" class=\"dataframe\">\n",
       "  <thead>\n",
       "    <tr style=\"text-align: right;\">\n",
       "      <th></th>\n",
       "      <th>0</th>\n",
       "    </tr>\n",
       "  </thead>\n",
       "  <tbody>\n",
       "    <tr>\n",
       "      <th>0</th>\n",
       "      <td>0.888889</td>\n",
       "    </tr>\n",
       "  </tbody>\n",
       "</table>\n",
       "</div>"
      ],
      "text/plain": [
       "          0\n",
       "0  0.888889"
      ]
     },
     "execution_count": 20,
     "metadata": {},
     "output_type": "execute_result"
    }
   ],
   "source": [
    "from sklearn.linear_model import LinearRegression\n",
    "\n",
    "training_x = pd.DataFrame([1,10,1,10])\n",
    "training_y = pd.DataFrame([1,0,1,0])\n",
    "testing_x = pd.DataFrame([2])\n",
    "\n",
    "model = LinearRegression().fit(training_x.to_numpy(), training_y.to_numpy().ravel())\n",
    "result = pd.DataFrame(model.predict(testing_x.to_numpy()))\n",
    "result"
   ]
  }
 ],
 "metadata": {
  "kernelspec": {
   "display_name": "Python 3",
   "language": "python",
   "name": "python3"
  },
  "language_info": {
   "codemirror_mode": {
    "name": "ipython",
    "version": 3
   },
   "file_extension": ".py",
   "mimetype": "text/x-python",
   "name": "python",
   "nbconvert_exporter": "python",
   "pygments_lexer": "ipython3",
   "version": "3.11.1"
  },
  "orig_nbformat": 4,
  "vscode": {
   "interpreter": {
    "hash": "cc7d4014459f57a0efa793e05d0e4bb89c114d3769303d98e183726ce8d7327a"
   }
  }
 },
 "nbformat": 4,
 "nbformat_minor": 2
}
