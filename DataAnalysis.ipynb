{
 "cells": [
  {
   "attachments": {},
   "cell_type": "markdown",
   "metadata": {},
   "source": [
    "<center><h1>Data Analysis<h1><center>"
   ]
  },
  {
   "attachments": {},
   "cell_type": "markdown",
   "metadata": {},
   "source": [
    "---"
   ]
  },
  {
   "cell_type": "code",
   "execution_count": 1,
   "metadata": {},
   "outputs": [],
   "source": [
    "from Metrics import getSentiment, getFactBased\n",
    "import json\n",
    "import pandas as pd"
   ]
  },
  {
   "cell_type": "code",
   "execution_count": 2,
   "metadata": {},
   "outputs": [
    {
     "name": "stdout",
     "output_type": "stream",
     "text": [
      "Loading File\n",
      "File Loaded\n"
     ]
    }
   ],
   "source": [
    "print(\"Loading File\")\n",
    "file = open(\"rust-articles-backup.json\", encoding=\"utf8\")\n",
    "articles = pd.DataFrame.from_dict(json.load(file))\n",
    "print(\"File Loaded\")"
   ]
  },
  {
   "cell_type": "code",
   "execution_count": 6,
   "metadata": {},
   "outputs": [
    {
     "name": "stdout",
     "output_type": "stream",
     "text": [
      "['url', 'publisher', 'headline', 'twitterHeadline', 'description', 'categories', 'body', 'images', 'thumbnail', 'videos', 'datePublished', 'dateUpdated', 'dateParsed']\n"
     ]
    }
   ],
   "source": [
    "# print(articles['publisher'].value_counts())\n",
    "# print(articles['categories'].value_counts())\n",
    "print(list(articles.columns))\n",
    "# print(articles['body'][articles['categories'].str.contains('leonardo dicaprio')].reset_index(drop=True)[1])\n",
    "# print(articles['body'][articles['categories'].str.contains('opinion')].reset_index(drop=True)[1])"
   ]
  },
  {
   "cell_type": "code",
   "execution_count": 4,
   "metadata": {},
   "outputs": [
    {
     "name": "stdout",
     "output_type": "stream",
     "text": [
      "{'neg': 0.049, 'neu': 0.91, 'pos': 0.041, 'compound': -0.3818}\n",
      "\n",
      "{'neg': 0.06, 'neu': 0.874, 'pos': 0.066, 'compound': 0.0772}\n",
      "\n"
     ]
    }
   ],
   "source": [
    "a = 0\n",
    "for i in range(a*2,a*2+2):\n",
    "    sentiment = getSentiment(articles.at[i,'body'])\n",
    "    # print(articles.at[i,'body'])\n",
    "    print(sentiment)\n",
    "    print()"
   ]
  },
  {
   "cell_type": "code",
   "execution_count": 5,
   "metadata": {},
   "outputs": [
    {
     "name": "stdout",
     "output_type": "stream",
     "text": [
      "Opinion: 1840 0.01221\n",
      "Fact: 159385 0.01629\n",
      "All: 161225 0.01625\n"
     ]
    }
   ],
   "source": [
    "count = 0\n",
    "total = 0\n",
    "o = articles[articles['categories'].str.contains('opinion')].reset_index(drop=True)\n",
    "for i in range(len(o)):\n",
    "    factBased = getFactBased(o.at[i,'body'])\n",
    "    # print(ob.at[i,'body'])\n",
    "    # print(factBased)\n",
    "    count += 1\n",
    "    total += factBased\n",
    "print('Opinion:',count, round(total/count,5))\n",
    "\n",
    "count = 0\n",
    "total = 0\n",
    "f = articles[~articles['categories'].str.contains('opinion')].reset_index(drop=True)\n",
    "for i in range(len(f)):\n",
    "    factBased = getFactBased(f.at[i,'body'])\n",
    "    # print(fb.at[i,'body'])\n",
    "    # print(factBased)\n",
    "    count += 1\n",
    "    total += factBased\n",
    "print('Fact:',count, round(total/count,5))\n",
    "\n",
    "count = 0\n",
    "total = 0\n",
    "for i in range(len(articles)):\n",
    "    factBased = getFactBased(articles.at[i,'body'])\n",
    "    # print(fb.at[i,'body'])\n",
    "    # print(factBased)\n",
    "    count += 1\n",
    "    total += factBased\n",
    "print('All:',count, round(total/count,5))"
   ]
  }
 ],
 "metadata": {
  "kernelspec": {
   "display_name": "Python 3",
   "language": "python",
   "name": "python3"
  },
  "language_info": {
   "codemirror_mode": {
    "name": "ipython",
    "version": 3
   },
   "file_extension": ".py",
   "mimetype": "text/x-python",
   "name": "python",
   "nbconvert_exporter": "python",
   "pygments_lexer": "ipython3",
   "version": "3.10.4"
  },
  "orig_nbformat": 4,
  "vscode": {
   "interpreter": {
    "hash": "4b825bedc96eadae69a7af626f226c64579ea86ebf2cbb396f28a065f1c74e47"
   }
  }
 },
 "nbformat": 4,
 "nbformat_minor": 2
}
