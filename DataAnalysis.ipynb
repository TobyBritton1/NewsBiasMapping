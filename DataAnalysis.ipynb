{
 "cells": [
  {
   "attachments": {},
   "cell_type": "markdown",
   "metadata": {},
   "source": [
    "<center><h1>Data Analysis<h1><center>"
   ]
  },
  {
   "attachments": {},
   "cell_type": "markdown",
   "metadata": {},
   "source": [
    "---"
   ]
  },
  {
   "cell_type": "code",
   "execution_count": 8,
   "metadata": {},
   "outputs": [
    {
     "name": "stderr",
     "output_type": "stream",
     "text": [
      "[nltk_data] Downloading package vader_lexicon to\n",
      "[nltk_data]     C:\\Users\\britt\\AppData\\Roaming\\nltk_data...\n",
      "[nltk_data]   Package vader_lexicon is already up-to-date!\n"
     ]
    },
    {
     "data": {
      "text/plain": [
       "True"
      ]
     },
     "execution_count": 8,
     "metadata": {},
     "output_type": "execute_result"
    }
   ],
   "source": [
    "from Metrics import getSentiment, getFactBased, getSensationalized\n",
    "import json\n",
    "import pandas as pd\n",
    "import nltk\n",
    "from collections import Counter\n",
    "import matplotlib.pyplot as plt\n",
    "nltk.download('vader_lexicon')"
   ]
  },
  {
   "cell_type": "code",
   "execution_count": 2,
   "metadata": {},
   "outputs": [
    {
     "name": "stdout",
     "output_type": "stream",
     "text": [
      "Loading File\n",
      "File Loaded\n"
     ]
    }
   ],
   "source": [
    "print(\"Loading File\")\n",
    "file = open(\"rust-articles-backup.json\", encoding=\"utf8\")\n",
    "articles = pd.DataFrame.from_dict(json.load(file))\n",
    "print(\"File Loaded\")"
   ]
  },
  {
   "cell_type": "code",
   "execution_count": 3,
   "metadata": {},
   "outputs": [
    {
     "name": "stdout",
     "output_type": "stream",
     "text": [
      "Index(['url', 'publisher', 'headline', 'twitterHeadline', 'description',\n",
      "       'categories', 'body', 'images', 'thumbnail', 'videos', 'datePublished',\n",
      "       'dateUpdated', 'dateParsed'],\n",
      "      dtype='object')\n"
     ]
    }
   ],
   "source": [
    "# print(articles['publisher'].value_counts())\n",
    "# print(articles['categories'].value_counts())\n",
    "print(articles.columns)\n",
    "# print(articles['body'][articles['categories'].str.contains('leonardo dicaprio')].reset_index(drop=True)[1])\n",
    "# print(articles['body'][articles['categories'].str.contains('opinion')].reset_index(drop=True)[1])"
   ]
  },
  {
   "attachments": {},
   "cell_type": "markdown",
   "metadata": {},
   "source": [
    "Get Sentiment Test"
   ]
  },
  {
   "cell_type": "code",
   "execution_count": 4,
   "metadata": {},
   "outputs": [
    {
     "name": "stdout",
     "output_type": "stream",
     "text": [
      "{'neg': 0.038, 'neu': 0.886, 'pos': 0.077, 'compound': 0.9554}\n",
      "\n",
      "{'neg': 0.088, 'neu': 0.842, 'pos': 0.07, 'compound': -0.8484}\n",
      "\n"
     ]
    }
   ],
   "source": [
    "a = 2\n",
    "for i in range(a*2,a*2+2):\n",
    "    sentiment = getSentiment(articles.at[i,'body'])\n",
    "    #print(articles.at[i,'body'])\n",
    "    print(sentiment)\n",
    "    print()"
   ]
  },
  {
   "attachments": {},
   "cell_type": "markdown",
   "metadata": {},
   "source": [
    "Get Factbased Test"
   ]
  },
  {
   "cell_type": "code",
   "execution_count": 5,
   "metadata": {},
   "outputs": [
    {
     "name": "stdout",
     "output_type": "stream",
     "text": [
      "Opinion: 1840 0.13374\n",
      "Fact: 159385 0.17788\n",
      "All: 161225 0.17737\n",
      "Counter({0: 70299, 2: 8892, 4: 6483, 6: 5562, 8: 5320, 10: 5135, 12: 4506, 14: 4033, 16: 3496, 18: 3027, 11: 2572, 13: 2561, 9: 2559, 20: 2477, 7: 2331, 22: 2258, 15: 2230, 17: 1981, 5: 1956, 24: 1844, 19: 1761, 21: 1460, 26: 1456, 3: 1313, 23: 1257, 28: 1202, 30: 1070, 25: 1029, 27: 911, 32: 906, 34: 713, 29: 710, 1: 673, 31: 595, 36: 571, 38: 495, 33: 469, 40: 414, 35: 405, 42: 350, 37: 342, 39: 301, 44: 269, 46: 235, 41: 229, 43: 202, 48: 185, 50: 162, 45: 153, 47: 135, 52: 131, 54: 130, 49: 108, 56: 96, 51: 81, 58: 81, 62: 77, 55: 71, 53: 65, 68: 50, 57: 49, 60: 46, 61: 45, 59: 45, 70: 43, 64: 41, 66: 37, 67: 30, 63: 29, 65: 29, 69: 27, 74: 22, 72: 21, 76: 21, 71: 19, 78: 18, 80: 18, 75: 14, 82: 13, 90: 13, 102: 11, 84: 11, 79: 11, 88: 10, 77: 9, 73: 9, 85: 8, 81: 8, 98: 8, 89: 7, 92: 7, 86: 7, 94: 6, 104: 6, 100: 6, 111: 5, 96: 5, 112: 5, 83: 5, 91: 5, 95: 4, 118: 4, 101: 4, 126: 4, 106: 3, 120: 3, 109: 3, 105: 3, 138: 3, 114: 3, 124: 3, 110: 3, 108: 3, 122: 3, 134: 3, 156: 3, 87: 3, 136: 3, 113: 2, 99: 2, 139: 2, 93: 2, 132: 2, 149: 2, 141: 2, 170: 2, 162: 2, 119: 2, 116: 2, 103: 2, 154: 2, 142: 2, 133: 1, 121: 1, 143: 1, 180: 1, 167: 1, 131: 1, 198: 1, 232: 1, 210: 1, 197: 1, 303: 1, 107: 1, 130: 1, 174: 1, 200: 1, 163: 1, 137: 1, 169: 1, 186: 1, 115: 1, 209: 1, 231: 1, 128: 1, 250: 1, 733: 1})\n"
     ]
    }
   ],
   "source": [
    "count = 0\n",
    "total = 0\n",
    "opp = []\n",
    "o = articles[articles['categories'].str.contains('opinion')].reset_index(drop=True)\n",
    "for i in range(len(o)):\n",
    "    factBased,_,_ = getFactBased(o.at[i,'body'])\n",
    "    # print(ob.at[i,'body'])\n",
    "    # print(factBased)\n",
    "    count += 1\n",
    "    total += factBased\n",
    "    opp.append(factBased)\n",
    "print('Opinion:',count, round(total/count,5))\n",
    "\n",
    "count = 0\n",
    "total = 0\n",
    "fac = []\n",
    "f = articles[~articles['categories'].str.contains('opinion')].reset_index(drop=True)\n",
    "for i in range(len(f)):\n",
    "    factBased,_,_ = getFactBased(f.at[i,'body'])\n",
    "    # print(fb.at[i,'body'])\n",
    "    # print(factBased)\n",
    "    count += 1\n",
    "    total += factBased\n",
    "    fac.append(factBased)\n",
    "print('Fact:',count, round(total/count,5))\n",
    "\n",
    "count = 0\n",
    "total = 0\n",
    "all = []\n",
    "quotes = []\n",
    "for i in range(len(articles)):\n",
    "    factBased,quote,_ = getFactBased(articles.at[i,'body'])\n",
    "    # print(fb.at[i,'body'])\n",
    "    # print(factBased)\n",
    "    count += 1\n",
    "    total += factBased\n",
    "    all.append(factBased)\n",
    "    quotes.append(quote)\n",
    "print('All:',count, round(total/count,5))\n",
    "print(Counter(quotes))"
   ]
  },
  {
   "attachments": {},
   "cell_type": "markdown",
   "metadata": {},
   "source": [
    "Regression Testing"
   ]
  },
  {
   "cell_type": "code",
   "execution_count": 6,
   "metadata": {},
   "outputs": [
    {
     "data": {
      "text/html": [
       "<div>\n",
       "<style scoped>\n",
       "    .dataframe tbody tr th:only-of-type {\n",
       "        vertical-align: middle;\n",
       "    }\n",
       "\n",
       "    .dataframe tbody tr th {\n",
       "        vertical-align: top;\n",
       "    }\n",
       "\n",
       "    .dataframe thead th {\n",
       "        text-align: right;\n",
       "    }\n",
       "</style>\n",
       "<table border=\"1\" class=\"dataframe\">\n",
       "  <thead>\n",
       "    <tr style=\"text-align: right;\">\n",
       "      <th></th>\n",
       "      <th>0</th>\n",
       "    </tr>\n",
       "  </thead>\n",
       "  <tbody>\n",
       "    <tr>\n",
       "      <th>0</th>\n",
       "      <td>0.888889</td>\n",
       "    </tr>\n",
       "  </tbody>\n",
       "</table>\n",
       "</div>"
      ],
      "text/plain": [
       "          0\n",
       "0  0.888889"
      ]
     },
     "execution_count": 6,
     "metadata": {},
     "output_type": "execute_result"
    }
   ],
   "source": [
    "from sklearn.linear_model import LinearRegression\n",
    "\n",
    "training_x = pd.DataFrame([1,10,1,10])\n",
    "training_y = pd.DataFrame([1,0,1,0])\n",
    "testing_x = pd.DataFrame([2])\n",
    "\n",
    "model = LinearRegression().fit(training_x.to_numpy(), training_y.to_numpy().ravel())\n",
    "result = pd.DataFrame(model.predict(testing_x.to_numpy()))\n",
    "result"
   ]
  },
  {
   "cell_type": "code",
   "execution_count": 10,
   "metadata": {},
   "outputs": [
    {
     "data": {
      "image/png": "[encoded data removed]",
      "text/plain": [
       "<Figure size 640x480 with 1 Axes>"
      ]
     },
     "metadata": {},
     "output_type": "display_data"
    }
   ],
   "source": [
    "list = []\n",
    "for i in range(len(articles)):\n",
    "    sensationalzed = getSensationalized(articles.at[i,'body'])\n",
    "    list.append(sensationalzed)\n",
    "a = Counter(list)\n",
    "plt.scatter(*zip(*a.items()))\n",
    "plt.show()"
   ]
  },
  {
   "cell_type": "code",
   "execution_count": 12,
   "metadata": {},
   "outputs": [
    {
     "name": "stdout",
     "output_type": "stream",
     "text": [
      "{0.5: 10644, 0.2: 16062, 1: 219, 0.4: 15993, 0.3: 18021, 0.1: 14181, 0.0: 76160, 0.7: 2658, 0.6: 5787, 0.8: 1079, 0.9: 421}\n"
     ]
    },
    {
     "data": {
      "image/png": "[encoded data removed]",
      "text/plain": [
       "<Figure size 640x480 with 1 Axes>"
      ]
     },
     "metadata": {},
     "output_type": "display_data"
    }
   ],
   "source": [
    "a = {}\n",
    "for fb in all:\n",
    "    try:\n",
    "        a[round(fb,1)] += 1\n",
    "    except:\n",
    "        a[round(fb,1)] = 1\n",
    "\n",
    "print(a)\n",
    "plt.scatter(*zip(*a.items()))\n",
    "plt.show()"
   ]
  },
  {
   "cell_type": "code",
   "execution_count": null,
   "metadata": {},
   "outputs": [],
   "source": [
    "import matplotlib.pyplot as plt\n",
    "b = dict(Counter(list))\n",
    "b = dict(Counter([1,7,7,7,3,9,9,7,7,9,10,0]))"
   ]
  },
  {
   "cell_type": "code",
   "execution_count": null,
   "metadata": {},
   "outputs": [
    {
     "data": {
      "text/plain": [
       "8"
      ]
     },
     "execution_count": 15,
     "metadata": {},
     "output_type": "execute_result"
    }
   ],
   "source": [
    "#print(list)\n",
    "articles.at[37914,'body'] #list.index(33)\n",
    "articles.at[13149,'body'] #list.index(10)\n",
    "articles.at[210,'body'] #list.index(5)\n",
    "articles.at[5,'body'] #list.index(2)\n",
    "articles.at[8,'body'] #list.index(8)\n",
    "list.index(1)"
   ]
  },
  {
   "cell_type": "code",
   "execution_count": null,
   "metadata": {},
   "outputs": [
    {
     "data": {
      "text/plain": [
       "2"
      ]
     },
     "execution_count": 16,
     "metadata": {},
     "output_type": "execute_result"
    }
   ],
   "source": [
    "a = 'hello hello'\n",
    "a.count('hello')"
   ]
  }
 ],
 "metadata": {
  "kernelspec": {
   "display_name": "Python 3",
   "language": "python",
   "name": "python3"
  },
  "language_info": {
   "codemirror_mode": {
    "name": "ipython",
    "version": 3
   },
   "file_extension": ".py",
   "mimetype": "text/x-python",
   "name": "python",
   "nbconvert_exporter": "python",
   "pygments_lexer": "ipython3",
   "version": "3.10.6"
  },
  "orig_nbformat": 4,
  "vscode": {
   "interpreter": {
    "hash": "cc7d4014459f57a0efa793e05d0e4bb89c114d3769303d98e183726ce8d7327a"
   }
  }
 },
 "nbformat": 4,
 "nbformat_minor": 2
}
